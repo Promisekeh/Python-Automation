{
 "cells": [
  {
   "cell_type": "markdown",
   "metadata": {},
   "source": [
    "# Resize Image\n",
    "\n",
    "This script is used to resize image using the pillow python libarary\n",
    "\n",
    "Author: Promise Ekeh\n",
    "\n",
    "Date: Feb. 2023"
   ]
  },
  {
   "cell_type": "code",
   "execution_count": 1,
   "metadata": {},
   "outputs": [],
   "source": [
    "import pandas as pd\n",
    "from PIL import Image\n",
    "import os"
   ]
  },
  {
   "cell_type": "markdown",
   "metadata": {},
   "source": [
    "## Resize Single Image"
   ]
  },
  {
   "cell_type": "code",
   "execution_count": 2,
   "metadata": {},
   "outputs": [
    {
     "data": {
      "text/plain": [
       "640.0"
      ]
     },
     "execution_count": 2,
     "metadata": {},
     "output_type": "execute_result"
    }
   ],
   "source": [
    "1280/2"
   ]
  },
  {
   "cell_type": "code",
   "execution_count": 3,
   "metadata": {},
   "outputs": [
    {
     "data": {
      "text/plain": [
       "360.0"
      ]
     },
     "execution_count": 3,
     "metadata": {},
     "output_type": "execute_result"
    }
   ],
   "source": [
    "720/2"
   ]
  },
  {
   "cell_type": "markdown",
   "metadata": {},
   "source": [
    "### Rectangle"
   ]
  },
  {
   "cell_type": "code",
   "execution_count": 5,
   "metadata": {},
   "outputs": [],
   "source": [
    "img_path= r\"C:\\Users\\promi\\OneDrive\\Documents\\Github Repo\\promisekeh.github.io\\images\\shopping_data.png\"\n",
    "# img_path= \"path to image\"\n",
    "\n",
    "img= Image.open(img_path)\n",
    "resized_img= img.resize((640, 360)) #change dimension\n",
    "resized_img.save(img_path)\n",
    "# resized_img.save(img_path.replace('.', '_reduced.'))"
   ]
  },
  {
   "cell_type": "markdown",
   "metadata": {},
   "source": [
    "### Square"
   ]
  },
  {
   "cell_type": "code",
   "execution_count": 7,
   "metadata": {},
   "outputs": [],
   "source": [
    "img_path= r\"C:\\Users\\promi\\OneDrive\\Documents\\Github Repo\\promisekeh.github.io\\images\\warri_chapter.jpg\"\n",
    "# img_path= \"path to image\"\n",
    "\n",
    "img= Image.open(img_path)\n",
    "resized_img= img.resize((800, 800)) #change dimension\n",
    "resized_img.save(img_path)\n",
    "# resized_img.save(img_path.replace('.', '_reduced.'))"
   ]
  },
  {
   "cell_type": "markdown",
   "metadata": {},
   "source": [
    "## Resize all Images in a folder"
   ]
  },
  {
   "cell_type": "code",
   "execution_count": 6,
   "metadata": {},
   "outputs": [
    {
     "name": "stdout",
     "output_type": "stream",
     "text": [
      "Resizing AAPG_YP_Python_Boot_Camp.png\n",
      "Resizing GNI.jpeg\n",
      "Resizing Lecture_hub1.jpg\n",
      "Resizing NAPEICE.jpeg\n",
      "Resizing NAPEUAP.jpeg\n",
      "Resizing NAPEYP.jpeg\n",
      "Resizing NAPEYP_sep.jpeg\n",
      "Resizing NAPE_europre.jpeg\n",
      "Resizing outlier.jpeg\n",
      "Resizing proally.jpg\n",
      "Resizing SEGfuta.jpeg\n",
      "Resizing WIGE.jpg\n"
     ]
    }
   ],
   "source": [
    "folder= \"path to folder\"\n",
    "folder= r\"C:\\Users\\promi\\OneDrive\\Documents\\Github Repo\\promisekeh.github.io\\images\\New folder\"\n",
    "\n",
    "for file in os.listdir(folder):\n",
    "    print(f'Resizing {file}')\n",
    "    img= Image.open(os.path.join(folder, file))\n",
    "    resized_img= img.resize((800, 800)) #change dimension\n",
    "    resized_img.save(os.path.join(folder.replace('\\\\New folder', ''), file))"
   ]
  },
  {
   "cell_type": "markdown",
   "metadata": {},
   "source": [
    "## To do\n",
    "1. Create a function/ class object\n",
    "2. create a function that get the image dimension and reduces image by half or 3"
   ]
  },
  {
   "cell_type": "markdown",
   "metadata": {},
   "source": []
  }
 ],
 "metadata": {
  "kernelspec": {
   "display_name": "python_env",
   "language": "python",
   "name": "python3"
  },
  "language_info": {
   "codemirror_mode": {
    "name": "ipython",
    "version": 3
   },
   "file_extension": ".py",
   "mimetype": "text/x-python",
   "name": "python",
   "nbconvert_exporter": "python",
   "pygments_lexer": "ipython3",
   "version": "3.12.2"
  }
 },
 "nbformat": 4,
 "nbformat_minor": 2
}
