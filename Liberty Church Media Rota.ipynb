{
 "cells": [
  {
   "cell_type": "markdown",
   "metadata": {},
   "source": [
    "# Liberty Church Media Rota\n",
    "\n",
    "Author: Promise Ekeh\n",
    "\n",
    "Date: March 20, 2024"
   ]
  },
  {
   "cell_type": "markdown",
   "metadata": {},
   "source": [
    "# imports"
   ]
  },
  {
   "cell_type": "code",
   "execution_count": 1,
   "metadata": {},
   "outputs": [],
   "source": [
    "\n",
    "import pandas as pd\n",
    "from automate_rota import *"
   ]
  },
  {
   "cell_type": "code",
   "execution_count": null,
   "metadata": {},
   "outputs": [],
   "source": [
    "\n",
    "# Example data\n",
    "tasks = ['Pro-presenter', 'Camera 1', 'Roaming', 'Directing', 'Live-streaming', 'SM', 'Producer']\n",
    "media_team = [\n",
    "    {'name': 'TJ', 'capabilities': ['Pro-presenter', 'Camera 1']},\n",
    "    {'name': 'David', 'capabilities': ['Pro-presenter', 'Camera 1']},\n",
    "    {'name': 'Tolu', 'capabilities': ['Camera 1', 'Roaming', 'Directing']},\n",
    "    {'name': 'Olayinka', 'capabilities': ['Pro-presenter', 'Live-streaming']},\n",
    "    {'name': 'Ore', 'capabilities': ['Pro-presenter', 'Roaming']},\n",
    "    {'name': 'Juwon', 'capabilities': ['Pro-presenter', 'Camera 1']},\n",
    "    {'name': 'Joseph', 'capabilities': ['Pro-presenter', 'Camera 1']},\n",
    "    {'name': 'Priscilia', 'capabilities': ['Live-streaming']},\n",
    "    {'name': 'Soji', 'capabilities': ['SM', 'Directing', 'Live-streaming']},\n",
    "    {'name': 'Lady T', 'capabilities': ['SM']},\n",
    "    {'name': 'Bisi', 'capabilities': ['SM']},\n",
    "    {'name': 'Tobi', 'capabilities': ['SM', 'Pro-presenter', 'Roaming', 'Directing', 'Camera 1']},\n",
    "    {'name': 'Promise', 'capabilities': ['Producer']},\n",
    "    {'name': 'Seyi', 'capabilities': ['Producer']},\n",
    "    {'name': 'Seye', 'capabilities': ['Producer']},\n",
    "    {'name': 'Kenny', 'capabilities': ['SM', 'Roaming']},\n",
    "    {'name': 'Tunde', 'capabilities': ['Directing', 'Camera 1']}\n",
    "]\n"
   ]
  },
  {
   "cell_type": "markdown",
   "metadata": {},
   "source": [
    "# April"
   ]
  },
  {
   "cell_type": "code",
   "execution_count": null,
   "metadata": {},
   "outputs": [],
   "source": [
    "april_absences={\n",
    "                7: ['Ore'],\n",
    "                21: ['Bisi', 'Joseph'],\n",
    "                28: ['Bisi', 'Ore', 'Joseph']\n",
    "                \n",
    "                }\n",
    "april_rota=create_monthly_rota (media_team, tasks, april_absences, 'April', 2024)\n",
    "april_rota\n"
   ]
  },
  {
   "cell_type": "code",
   "execution_count": null,
   "metadata": {},
   "outputs": [],
   "source": [
    "april_rota.to_clipboard()"
   ]
  },
  {
   "cell_type": "markdown",
   "metadata": {},
   "source": [
    "# May"
   ]
  },
  {
   "cell_type": "code",
   "execution_count": null,
   "metadata": {},
   "outputs": [],
   "source": [
    "may_absences={\n",
    "                5: ['Promise', 'Juwon'],\n",
    "                12: ['Lady T'],\n",
    "                17: [],\n",
    "                25: ['Juwon']\n",
    "                \n",
    "                }\n",
    "may_rota=create_monthly_rota (media_team, tasks, may_absences, 'may', 2024)\n",
    "may_rota\n"
   ]
  },
  {
   "cell_type": "code",
   "execution_count": null,
   "metadata": {},
   "outputs": [],
   "source": [
    "may_rota.to_clipboard()"
   ]
  },
  {
   "cell_type": "markdown",
   "metadata": {},
   "source": [
    "# June"
   ]
  },
  {
   "cell_type": "code",
   "execution_count": null,
   "metadata": {},
   "outputs": [],
   "source": [
    "june_absences={\n",
    "                2: ['Ore', 'Seyi'],\n",
    "                9: ['Lady T', 'Seyi'],\n",
    "                16: ['Lady T', 'Ore', 'Juwon'],\n",
    "                23: ['Lady T'],\n",
    "                30: ['Promise', 'Joseph']\n",
    "                \n",
    "                }\n",
    "june_rota=create_monthly_rota (media_team, tasks, june_absences, 'june', 2024)\n",
    "june_rota\n"
   ]
  },
  {
   "cell_type": "code",
   "execution_count": null,
   "metadata": {},
   "outputs": [],
   "source": [
    "june_rota.to_clipboard()"
   ]
  },
  {
   "cell_type": "code",
   "execution_count": null,
   "metadata": {},
   "outputs": [],
   "source": [
    "create_monthly_rota (media_team, tasks, june_absences, 'june', 2024)"
   ]
  },
  {
   "cell_type": "code",
   "execution_count": null,
   "metadata": {},
   "outputs": [],
   "source": [
    "pd.DataFrame.from_dict(media_team)"
   ]
  },
  {
   "cell_type": "code",
   "execution_count": null,
   "metadata": {},
   "outputs": [],
   "source": [
    "create_rota(tasks, media_team)"
   ]
  },
  {
   "cell_type": "markdown",
   "metadata": {},
   "source": [
    "# July"
   ]
  },
  {
   "cell_type": "code",
   "execution_count": 2,
   "metadata": {},
   "outputs": [
    {
     "data": {
      "text/html": [
       "<div>\n",
       "<style scoped>\n",
       "    .dataframe tbody tr th:only-of-type {\n",
       "        vertical-align: middle;\n",
       "    }\n",
       "\n",
       "    .dataframe tbody tr th {\n",
       "        vertical-align: top;\n",
       "    }\n",
       "\n",
       "    .dataframe thead tr th {\n",
       "        text-align: left;\n",
       "    }\n",
       "</style>\n",
       "<table border=\"1\" class=\"dataframe\">\n",
       "  <thead>\n",
       "    <tr>\n",
       "      <th></th>\n",
       "      <th colspan=\"2\" halign=\"left\">7</th>\n",
       "      <th colspan=\"2\" halign=\"left\">14</th>\n",
       "      <th colspan=\"2\" halign=\"left\">21</th>\n",
       "      <th colspan=\"2\" halign=\"left\">28</th>\n",
       "    </tr>\n",
       "    <tr>\n",
       "      <th></th>\n",
       "      <th>first</th>\n",
       "      <th>second</th>\n",
       "      <th>first</th>\n",
       "      <th>second</th>\n",
       "      <th>first</th>\n",
       "      <th>second</th>\n",
       "      <th>first</th>\n",
       "      <th>second</th>\n",
       "    </tr>\n",
       "  </thead>\n",
       "  <tbody>\n",
       "    <tr>\n",
       "      <th>Camera 1</th>\n",
       "      <td>TJ, Tobi</td>\n",
       "      <td>Tunde, Tolu</td>\n",
       "      <td>Joseph, Tobi</td>\n",
       "      <td>David, Juwon</td>\n",
       "      <td>Joseph, Tolu</td>\n",
       "      <td>Tunde, David</td>\n",
       "      <td>Juwon, Tolu</td>\n",
       "      <td>Lady T, Tolu</td>\n",
       "    </tr>\n",
       "    <tr>\n",
       "      <th>Roaming</th>\n",
       "      <td>Ore, Kenny</td>\n",
       "      <td>Kenny, Ore</td>\n",
       "      <td>Tolu, Juwon</td>\n",
       "      <td>Tobi, Kenny</td>\n",
       "      <td>Tobi, David</td>\n",
       "      <td>Tolu, Kenny</td>\n",
       "      <td>Kenny, David</td>\n",
       "      <td>Tobi, Juwon</td>\n",
       "    </tr>\n",
       "    <tr>\n",
       "      <th>Pro-presenter</th>\n",
       "      <td>Joseph, David</td>\n",
       "      <td>TJ, Tobi</td>\n",
       "      <td>David, TJ</td>\n",
       "      <td>Priscilia, TJ</td>\n",
       "      <td>Priscilia, Lady T</td>\n",
       "      <td>Lady T, Priscilia</td>\n",
       "      <td>Tobi, Joseph</td>\n",
       "      <td>Joseph, Ore</td>\n",
       "    </tr>\n",
       "    <tr>\n",
       "      <th>Directing</th>\n",
       "      <td>Tunde, Tolu</td>\n",
       "      <td>Michael O., Soji</td>\n",
       "      <td>Soji, Michael O.</td>\n",
       "      <td>Soji, Michael O.</td>\n",
       "      <td>Kenny, Soji</td>\n",
       "      <td>Soji, Michael O.</td>\n",
       "      <td>Michael O., Soji</td>\n",
       "      <td>Kenny, Soji</td>\n",
       "    </tr>\n",
       "    <tr>\n",
       "      <th>Live-streaming</th>\n",
       "      <td>Priscilia</td>\n",
       "      <td>David</td>\n",
       "      <td>Tunde</td>\n",
       "      <td>Tolu</td>\n",
       "      <td>Michael O.</td>\n",
       "      <td>TJ</td>\n",
       "      <td>Priscilia</td>\n",
       "      <td>Michael O.</td>\n",
       "    </tr>\n",
       "    <tr>\n",
       "      <th>Stage Management</th>\n",
       "      <td>Soji</td>\n",
       "      <td>Bisi</td>\n",
       "      <td>Bisi</td>\n",
       "      <td>Bisi</td>\n",
       "      <td>Bisi</td>\n",
       "      <td>Bisi</td>\n",
       "      <td>Lady T</td>\n",
       "      <td>Bisi</td>\n",
       "    </tr>\n",
       "    <tr>\n",
       "      <th>Producer</th>\n",
       "      <td>Seyi</td>\n",
       "      <td>Seyi</td>\n",
       "      <td>Seye</td>\n",
       "      <td>Seyi</td>\n",
       "      <td>Seye</td>\n",
       "      <td>Promise</td>\n",
       "      <td>Promise</td>\n",
       "      <td>Seyi</td>\n",
       "    </tr>\n",
       "  </tbody>\n",
       "</table>\n",
       "</div>"
      ],
      "text/plain": [
       "                             7                                   14  \\\n",
       "                          first            second             first   \n",
       "Camera 1               TJ, Tobi       Tunde, Tolu      Joseph, Tobi   \n",
       "Roaming              Ore, Kenny        Kenny, Ore       Tolu, Juwon   \n",
       "Pro-presenter     Joseph, David          TJ, Tobi         David, TJ   \n",
       "Directing           Tunde, Tolu  Michael O., Soji  Soji, Michael O.   \n",
       "Live-streaming        Priscilia             David             Tunde   \n",
       "Stage Management           Soji              Bisi              Bisi   \n",
       "Producer                   Seyi              Seyi              Seye   \n",
       "\n",
       "                                                   21                     \\\n",
       "                            second              first             second   \n",
       "Camera 1              David, Juwon       Joseph, Tolu       Tunde, David   \n",
       "Roaming                Tobi, Kenny        Tobi, David        Tolu, Kenny   \n",
       "Pro-presenter        Priscilia, TJ  Priscilia, Lady T  Lady T, Priscilia   \n",
       "Directing         Soji, Michael O.        Kenny, Soji   Soji, Michael O.   \n",
       "Live-streaming                Tolu         Michael O.                 TJ   \n",
       "Stage Management              Bisi               Bisi               Bisi   \n",
       "Producer                      Seyi               Seye            Promise   \n",
       "\n",
       "                                28                \n",
       "                             first        second  \n",
       "Camera 1               Juwon, Tolu  Lady T, Tolu  \n",
       "Roaming               Kenny, David   Tobi, Juwon  \n",
       "Pro-presenter         Tobi, Joseph   Joseph, Ore  \n",
       "Directing         Michael O., Soji   Kenny, Soji  \n",
       "Live-streaming           Priscilia    Michael O.  \n",
       "Stage Management            Lady T          Bisi  \n",
       "Producer                   Promise          Seyi  "
      ]
     },
     "execution_count": 2,
     "metadata": {},
     "output_type": "execute_result"
    }
   ],
   "source": [
    "july_absences={\n",
    "                7: ['Promise', 'Lady T', 'Olayinka'],\n",
    "                14: ['Lady T',  'Olayinka', 'Ore'],\n",
    "                21: [ 'Ore', 'Juwon', 'Olayinka'],\n",
    "                28: ['Tunde', 'Olayinka', 'TJ'],\n",
    " \n",
    "                \n",
    "                }\n",
    "july_rota=create_monthly_rota (media_team, tasks, july_absences, 'july', 2024)\n",
    "july_rota\n"
   ]
  },
  {
   "cell_type": "code",
   "execution_count": 4,
   "metadata": {},
   "outputs": [],
   "source": [
    "july_rota.to_clipboard()"
   ]
  }
 ],
 "metadata": {
  "kernelspec": {
   "display_name": "python12",
   "language": "python",
   "name": "python3"
  },
  "language_info": {
   "codemirror_mode": {
    "name": "ipython",
    "version": 3
   },
   "file_extension": ".py",
   "mimetype": "text/x-python",
   "name": "python",
   "nbconvert_exporter": "python",
   "pygments_lexer": "ipython3",
   "version": "3.12.2"
  }
 },
 "nbformat": 4,
 "nbformat_minor": 2
}
