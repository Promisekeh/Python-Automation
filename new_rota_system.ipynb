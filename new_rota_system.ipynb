{
 "cells": [
  {
   "cell_type": "markdown",
   "id": "fb5d1a1e",
   "metadata": {},
   "source": [
    "# imports"
   ]
  },
  {
   "cell_type": "code",
   "execution_count": null,
   "id": "e0207142",
   "metadata": {},
   "outputs": [],
   "source": [
    "%load_ext autoreload\n",
    "\n",
    "%autoreload 2\n",
    "import pandas as pd\n",
    "from new_rota import *"
   ]
  },
  {
   "cell_type": "code",
   "execution_count": null,
   "id": "b92e7db9",
   "metadata": {},
   "outputs": [],
   "source": [
    "sundays_in_month(2025, 8)"
   ]
  },
  {
   "cell_type": "code",
   "execution_count": null,
   "id": "a8b7ff95",
   "metadata": {},
   "outputs": [],
   "source": [
    "absences = {\n",
    "    3: ['Tolu Adepegba (Lady T)', 'Promise Ekeh', 'Samuel Chibo', 'Adesoji Adelana'],\n",
    "    10: ['Tolu Adepegba (Lady T)', 'Tunde Rotimi', 'Adesoji Adelana'],\n",
    "    17:[],\n",
    "    24:['Tolu Adepegba (Lady T)', 'Tunde Rotimi', 'Adesoji Adelana'],\n",
    "    31:['Tolu Adepegba (Lady T)', 'Tunde Rotimi']\n",
    "}"
   ]
  },
  {
   "cell_type": "code",
   "execution_count": null,
   "id": "1dd7e3e6",
   "metadata": {},
   "outputs": [],
   "source": []
  },
  {
   "cell_type": "code",
   "execution_count": null,
   "id": "9b53be4e",
   "metadata": {},
   "outputs": [],
   "source": [
    "media_team=load_team_from_csv(file_path)\n",
    "for people in media_team:\n",
    "    print(people['name'])"
   ]
  },
  {
   "cell_type": "code",
   "execution_count": null,
   "id": "1e6d3dc3",
   "metadata": {},
   "outputs": [],
   "source": [
    "rota_df = create_monthly_rota(file_path, absences, 'August', 2025)\n",
    "\n",
    "rota_df"
   ]
  },
  {
   "cell_type": "code",
   "execution_count": null,
   "id": "b048664f",
   "metadata": {},
   "outputs": [],
   "source": [
    "rota_df.to_clipboard()"
   ]
  }
 ],
 "metadata": {
  "kernelspec": {
   "display_name": "python12",
   "language": "python",
   "name": "python3"
  },
  "language_info": {
   "codemirror_mode": {
    "name": "ipython",
    "version": 3
   },
   "file_extension": ".py",
   "mimetype": "text/x-python",
   "name": "python",
   "nbconvert_exporter": "python",
   "pygments_lexer": "ipython3",
   "version": "3.12.2"
  }
 },
 "nbformat": 4,
 "nbformat_minor": 5
}
