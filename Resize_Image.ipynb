{
 "cells": [
  {
   "cell_type": "markdown",
   "metadata": {},
   "source": [
    "# Resize Image\n",
    "\n",
    "This script is used to resize image using the pillow python libarary\n",
    "\n",
    "Author: Promise Ekeh\n",
    "\n",
    "Date: Feb. 2023"
   ]
  },
  {
   "cell_type": "code",
   "execution_count": 1,
   "metadata": {},
   "outputs": [],
   "source": [
    "import pandas as pd\n",
    "from PIL import Image\n",
    "import os"
   ]
  },
  {
   "cell_type": "markdown",
   "metadata": {},
   "source": [
    "## Resize Single Image"
   ]
  },
  {
   "cell_type": "code",
   "execution_count": 8,
   "metadata": {},
   "outputs": [],
   "source": [
    "img_path= r\"C:\\Users\\promi\\OneDrive\\Documents\\Github\\Files\\lithology_prediction_data.png\"\n",
    "img_path= \"path to image\"\n",
    "\n",
    "img= Image.open(img_path)\n",
    "resized_img= img.resize((1000, 500)) #change dimension\n",
    "resized_img.save(img_path.replace('.', '_reduced.'))"
   ]
  },
  {
   "cell_type": "markdown",
   "metadata": {},
   "source": [
    "## Resize all Images in a folder"
   ]
  },
  {
   "cell_type": "code",
   "execution_count": 6,
   "metadata": {},
   "outputs": [
    {
     "name": "stdout",
     "output_type": "stream",
     "text": [
      "Resizing 5.png\n",
      "Resizing Day 1.png\n",
      "Resizing Day 10.png\n",
      "Resizing Day 11.png\n",
      "Resizing Day 12.png\n",
      "Resizing Day 13.png\n",
      "Resizing Day 14.png\n",
      "Resizing Day 15.png\n",
      "Resizing Day 16.png\n",
      "Resizing Day 17.png\n",
      "Resizing Day 18.png\n",
      "Resizing Day 19.png\n",
      "Resizing Day 2.png\n",
      "Resizing Day 20.png\n",
      "Resizing Day 21.png\n",
      "Resizing Day 22.png\n",
      "Resizing Day 23.png\n",
      "Resizing Day 24.png\n",
      "Resizing Day 25.png\n",
      "Resizing Day 3.png\n",
      "Resizing Day 4.png\n",
      "Resizing Day 5.png\n",
      "Resizing Day 6.png\n",
      "Resizing Day 7.png\n",
      "Resizing Day 8.png\n",
      "Resizing Day 9.png\n"
     ]
    }
   ],
   "source": [
    "folder= \"path to folder\"\n",
    "folder= r\"C:\\Users\\promi\\OneDrive\\Documents\\Github Repo\\CODE-APRIL\\Images\"\n",
    "\n",
    "for file in os.listdir(folder):\n",
    "    print(f'Resizing {file}')\n",
    "    img= Image.open(os.path.join(folder, file))\n",
    "    resized_img= img.resize((400, 400)) #change dimension\n",
    "    resized_img.save(os.path.join(folder, file))"
   ]
  },
  {
   "cell_type": "markdown",
   "metadata": {},
   "source": [
    "## To do\n",
    "1. Create a function/ class object\n",
    "2. create a function that get the image dimension and reduces image by half or 3"
   ]
  },
  {
   "cell_type": "markdown",
   "metadata": {},
   "source": []
  }
 ],
 "metadata": {
  "kernelspec": {
   "display_name": "python_env",
   "language": "python",
   "name": "python3"
  },
  "language_info": {
   "codemirror_mode": {
    "name": "ipython",
    "version": 3
   },
   "file_extension": ".py",
   "mimetype": "text/x-python",
   "name": "python",
   "nbconvert_exporter": "python",
   "pygments_lexer": "ipython3",
   "version": "3.12.2"
  }
 },
 "nbformat": 4,
 "nbformat_minor": 2
}
